{
 "cells": [
  {
   "cell_type": "markdown",
   "metadata": {},
   "source": [
    "<h1 style=\"text-align: center;\">Applied Data Science Capstone</h1>\n",
    "----------\n",
    "<h2 style=\"text-align: center;\">Determining the best locations to open a new Souvlaki shop in: Athens - Greece</h2>\n",
    "<h3 style=\"text-align: center;\">Kostas Smonos</h3>\n",
    "<h3 style=\"text-align: center;\">November 29, 2020</h3>"
   ]
  },
  {
   "cell_type": "markdown",
   "metadata": {},
   "source": [
    "* ## 1.Scrape Wikipedia and prepare data"
   ]
  },
  {
   "cell_type": "code",
   "execution_count": 169,
   "metadata": {},
   "outputs": [],
   "source": [
    "#importing needed libraries\n",
    "import requests\n",
    "import numpy as np\n",
    "import pandas as pd\n",
    "from pandas.io.json import json_normalize\n",
    "#!pip install lxml              #uncomment to install lxml parser\n",
    "#!pip install beautifulsoup4    #uncomment to install bs\n",
    "from bs4 import BeautifulSoup"
   ]
  },
  {
   "cell_type": "markdown",
   "metadata": {},
   "source": [
    "### Grab Athens metro stations table"
   ]
  },
  {
   "cell_type": "code",
   "execution_count": 419,
   "metadata": {},
   "outputs": [],
   "source": [
    "url = 'https://en.wikipedia.org/wiki/List_of_Athens_Metro_stations'\n",
    "s = requests.Session()\n",
    "response = s.get(url, timeout = 10)\n",
    "soup = BeautifulSoup(response.content, \"html.parser\")\n",
    "\n",
    "# to fix the content idents etc and make it readable\n",
    "pretty_soup = soup.prettify()\n",
    "# finding the correct table and its headers\n",
    "table = soup.find('table', {'class' : 'wikitable sortable'})"
   ]
  },
  {
   "cell_type": "code",
   "execution_count": 237,
   "metadata": {},
   "outputs": [],
   "source": [
    "def dms2dd(tup1):        #Helper function to convert DMS to DD format\n",
    "    try:\n",
    "        dd = float(tup1[0:2]) + float(tup1[3:5])/60 + float(tup1[6:8])/(60*60);\n",
    "        if (tup1[9].upper() == \"S\") or (tup1[9].upper() == \"W\"):\n",
    "            return -dd;\n",
    "        return dd;\n",
    "    except:\n",
    "        print(\"could not parse \", str(tup1), \" Please add manually\")\n",
    "\n",
    "def getLocationFromWiki(url):\n",
    "    s = requests.Session()\n",
    "    response = s.get(url, timeout = 10)\n",
    "    soup = BeautifulSoup(response.content, \"html.parser\")\n",
    "    pretty_soup = soup.prettify()\n",
    "    try:\n",
    "        lat = soup.find('span', {'class' : 'latitude'}).get_text()\n",
    "        lng = soup.find('span', {'class' : 'longitude'}).get_text()\n",
    "        lat = dms2dd(lat)    #Wiki returns location data in DMS format. Convert to DD\n",
    "        lng = dms2dd(lng)\n",
    "        return [lat, lng]\n",
    "    except:\n",
    "        return [np.nan, np.nan]"
   ]
  },
  {
   "cell_type": "markdown",
   "metadata": {},
   "source": [
    "### Extracting column names, rows and station links from table"
   ]
  },
  {
   "cell_type": "code",
   "execution_count": 238,
   "metadata": {},
   "outputs": [],
   "source": [
    "rows = table.find_all(\"tr\")\n",
    "headers = [th.text.rstrip() for th in rows[0].find_all(\"th\")]\n",
    "headers.append('Link')\n",
    "\n",
    "# grabbing rows\n",
    "table_rows = []\n",
    "links = []\n",
    "for row in rows[1:]:\n",
    "    data = [d.text.rstrip() for d in row.find_all(\"td\")]\n",
    "    for b in row.find_all('a', href=True):\n",
    "        if data[1] in b:\n",
    "            link = 'https://en.wikipedia.org' + b['href']\n",
    "            break\n",
    "    data.append(link)\n",
    "    table_rows.append(data)"
   ]
  },
  {
   "cell_type": "markdown",
   "metadata": {},
   "source": [
    "### Creating a Pandas DataFrame with the extracted data"
   ]
  },
  {
   "cell_type": "code",
   "execution_count": 239,
   "metadata": {},
   "outputs": [
    {
     "data": {
      "text/html": [
       "<div>\n",
       "<style scoped>\n",
       "    .dataframe tbody tr th:only-of-type {\n",
       "        vertical-align: middle;\n",
       "    }\n",
       "\n",
       "    .dataframe tbody tr th {\n",
       "        vertical-align: top;\n",
       "    }\n",
       "\n",
       "    .dataframe thead th {\n",
       "        text-align: right;\n",
       "    }\n",
       "</style>\n",
       "<table border=\"1\" class=\"dataframe\">\n",
       "  <thead>\n",
       "    <tr style=\"text-align: right;\">\n",
       "      <th></th>\n",
       "      <th>Station</th>\n",
       "      <th>Municipality</th>\n",
       "      <th>Link</th>\n",
       "    </tr>\n",
       "  </thead>\n",
       "  <tbody>\n",
       "    <tr>\n",
       "      <th>0</th>\n",
       "      <td>Agia Marina</td>\n",
       "      <td>Agia Varvara</td>\n",
       "      <td>https://en.wikipedia.org/wiki/Agia_Marina_metr...</td>\n",
       "    </tr>\n",
       "    <tr>\n",
       "      <th>1</th>\n",
       "      <td>Agia Paraskevi</td>\n",
       "      <td>Chalandri</td>\n",
       "      <td>https://en.wikipedia.org/wiki/Agia_Paraskevi_m...</td>\n",
       "    </tr>\n",
       "    <tr>\n",
       "      <th>2</th>\n",
       "      <td>Agia Varvara</td>\n",
       "      <td>Agia Varvara</td>\n",
       "      <td>https://en.wikipedia.org/wiki/Agia_Varvara_met...</td>\n",
       "    </tr>\n",
       "    <tr>\n",
       "      <th>3</th>\n",
       "      <td>Agios Antonios</td>\n",
       "      <td>Peristeri</td>\n",
       "      <td>https://en.wikipedia.org/wiki/Agios_Antonios_m...</td>\n",
       "    </tr>\n",
       "    <tr>\n",
       "      <th>4</th>\n",
       "      <td>Agios Dimitrios-Alexandros Panagoulis</td>\n",
       "      <td>Agios Dimitrios</td>\n",
       "      <td>https://en.wikipedia.org/wiki/Agios_Dimitrios_...</td>\n",
       "    </tr>\n",
       "    <tr>\n",
       "      <th>...</th>\n",
       "      <td>...</td>\n",
       "      <td>...</td>\n",
       "      <td>...</td>\n",
       "    </tr>\n",
       "    <tr>\n",
       "      <th>59</th>\n",
       "      <td>Syngrou Fix</td>\n",
       "      <td>Athens</td>\n",
       "      <td>https://en.wikipedia.org/wiki/Syngrou_Fix_station</td>\n",
       "    </tr>\n",
       "    <tr>\n",
       "      <th>60</th>\n",
       "      <td>Syntagma</td>\n",
       "      <td>Athens</td>\n",
       "      <td>https://en.wikipedia.org/wiki/Syntagma_metro_s...</td>\n",
       "    </tr>\n",
       "    <tr>\n",
       "      <th>61</th>\n",
       "      <td>Tavros – Eleftherios Venizelos</td>\n",
       "      <td>Kallithea</td>\n",
       "      <td>https://en.wikipedia.org/wiki/Tavros_%E2%80%93...</td>\n",
       "    </tr>\n",
       "    <tr>\n",
       "      <th>62</th>\n",
       "      <td>Thissio</td>\n",
       "      <td>Athens</td>\n",
       "      <td>https://en.wikipedia.org/wiki/Thiseio_metro_st...</td>\n",
       "    </tr>\n",
       "    <tr>\n",
       "      <th>63</th>\n",
       "      <td>Victoria</td>\n",
       "      <td>Athens</td>\n",
       "      <td>https://en.wikipedia.org/wiki/Athens_Victoria_...</td>\n",
       "    </tr>\n",
       "  </tbody>\n",
       "</table>\n",
       "<p>64 rows × 3 columns</p>\n",
       "</div>"
      ],
      "text/plain": [
       "                                  Station     Municipality  \\\n",
       "0                             Agia Marina     Agia Varvara   \n",
       "1                          Agia Paraskevi        Chalandri   \n",
       "2                            Agia Varvara     Agia Varvara   \n",
       "3                          Agios Antonios        Peristeri   \n",
       "4   Agios Dimitrios-Alexandros Panagoulis  Agios Dimitrios   \n",
       "..                                    ...              ...   \n",
       "59                            Syngrou Fix           Athens   \n",
       "60                               Syntagma           Athens   \n",
       "61         Tavros – Eleftherios Venizelos        Kallithea   \n",
       "62                                Thissio           Athens   \n",
       "63                               Victoria           Athens   \n",
       "\n",
       "                                                 Link  \n",
       "0   https://en.wikipedia.org/wiki/Agia_Marina_metr...  \n",
       "1   https://en.wikipedia.org/wiki/Agia_Paraskevi_m...  \n",
       "2   https://en.wikipedia.org/wiki/Agia_Varvara_met...  \n",
       "3   https://en.wikipedia.org/wiki/Agios_Antonios_m...  \n",
       "4   https://en.wikipedia.org/wiki/Agios_Dimitrios_...  \n",
       "..                                                ...  \n",
       "59  https://en.wikipedia.org/wiki/Syngrou_Fix_station  \n",
       "60  https://en.wikipedia.org/wiki/Syntagma_metro_s...  \n",
       "61  https://en.wikipedia.org/wiki/Tavros_%E2%80%93...  \n",
       "62  https://en.wikipedia.org/wiki/Thiseio_metro_st...  \n",
       "63  https://en.wikipedia.org/wiki/Athens_Victoria_...  \n",
       "\n",
       "[64 rows x 3 columns]"
      ]
     },
     "execution_count": 239,
     "metadata": {},
     "output_type": "execute_result"
    }
   ],
   "source": [
    "df = pd.DataFrame(data = table_rows, columns = headers).drop(['Line(s)', 'Station nameGreek', 'Transfers', 'Opening date', 'Platform location'], axis = 1)\n",
    "df = df.rename(columns = {'Station nameEnglish' : 'Station'})\n",
    "df"
   ]
  },
  {
   "cell_type": "markdown",
   "metadata": {},
   "source": [
    "### Grab and convert location data for each station to Lat Lon"
   ]
  },
  {
   "cell_type": "code",
   "execution_count": 240,
   "metadata": {},
   "outputs": [
    {
     "name": "stdout",
     "output_type": "stream",
     "text": [
      "could not parse  38°4′24″N  Please add manually\n",
      "Location Data Retrieved\n"
     ]
    }
   ],
   "source": [
    "locations = []\n",
    "for link in df.Link:\n",
    "    loc = getLocationFromWiki(link)\n",
    "    #print(loc)\n",
    "    if loc == None:\n",
    "        locations.append([np.nan, np.nan])\n",
    "    else:\n",
    "        locations.append(loc)\n",
    "print(\"Location Data Retrieved\")"
   ]
  },
  {
   "cell_type": "code",
   "execution_count": 241,
   "metadata": {},
   "outputs": [],
   "source": [
    "df_loc = pd.DataFrame(locations)\n",
    "df[\"Latitude\"] = df_loc[0]\n",
    "df[\"Longitude\"] = df_loc[1]\n",
    "df.drop('Link', axis = 1, inplace = True)"
   ]
  },
  {
   "cell_type": "code",
   "execution_count": 242,
   "metadata": {},
   "outputs": [],
   "source": [
    "# Fixing missing values from wikipedia\n",
    "df = df.set_index('Station')\n",
    "df.at['Kifissia', 'Latitude'] = 38.073333\n",
    "df.at['Nikaia', 'Latitude'] =  37.965791\n",
    "df.at['Nikaia', 'Longitude'] = 23.647391\n",
    "df.at['Korydallos', 'Latitude'] = 37.9767921\n",
    "df.at['Korydallos', 'Longitude'] = 23.6509329"
   ]
  },
  {
   "cell_type": "code",
   "execution_count": 243,
   "metadata": {},
   "outputs": [
    {
     "data": {
      "text/plain": [
       "False"
      ]
     },
     "execution_count": 243,
     "metadata": {},
     "output_type": "execute_result"
    }
   ],
   "source": [
    "df.isnull().values.any()    #Check for any remaining missing values"
   ]
  },
  {
   "cell_type": "code",
   "execution_count": 397,
   "metadata": {},
   "outputs": [],
   "source": [
    "#csv_out = df.reset_index()\n",
    "#csv_out.to_csv(\"Metro_Stations_Athens_Locations.csv\")      Made a CSV for any future use on the data"
   ]
  },
  {
   "cell_type": "code",
   "execution_count": 246,
   "metadata": {},
   "outputs": [
    {
     "name": "stdout",
     "output_type": "stream",
     "text": [
      "Collecting geopy\n",
      "\u001b[?25l  Downloading https://files.pythonhosted.org/packages/07/e1/9c72de674d5c2b8fcb0738a5ceeb5424941fefa080bfe4e240d0bacb5a38/geopy-2.0.0-py3-none-any.whl (111kB)\n",
      "\u001b[K     |████████████████████████████████| 112kB 4.6MB/s eta 0:00:01\n",
      "\u001b[?25hCollecting geographiclib<2,>=1.49 (from geopy)\n",
      "  Downloading https://files.pythonhosted.org/packages/8b/62/26ec95a98ba64299163199e95ad1b0e34ad3f4e176e221c40245f211e425/geographiclib-1.50-py3-none-any.whl\n",
      "Installing collected packages: geographiclib, geopy\n",
      "Successfully installed geographiclib-1.50 geopy-2.0.0\n"
     ]
    }
   ],
   "source": [
    "#!pip install geocoder      #uncomment to install Geocoder package\n",
    "#!pip install geopy\n",
    "from geopy.geocoders import Nominatim\n",
    "import geocoder\n",
    "import folium"
   ]
  },
  {
   "cell_type": "markdown",
   "metadata": {},
   "source": [
    "### Map of all subway stations in Athens\n",
    "Using data i scraped off of wikipedia and converted using my functions"
   ]
  },
  {
   "cell_type": "code",
   "execution_count": 393,
   "metadata": {},
   "outputs": [
    {
     "data": {
      "text/html": [
       "<div style=\"width:100%;\"><div style=\"position:relative;width:100%;height:0;padding-bottom:60%;\"><span style=\"color:#565656\">Make this Notebook Trusted to load map: File -> Trust Notebook</span><iframe src=\"about:blank\" style=\"position:absolute;width:100%;height:100%;left:0;top:0;border:none !important;\" data-html=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 onload=\"this.contentDocument.open();this.contentDocument.write(atob(this.getAttribute('data-html')));this.contentDocument.close();\" allowfullscreen webkitallowfullscreen mozallowfullscreen></iframe></div></div>"
      ],
      "text/plain": [
       "<folium.folium.Map at 0x7fc93e19ee10>"
      ]
     },
     "execution_count": 393,
     "metadata": {},
     "output_type": "execute_result"
    }
   ],
   "source": [
    "#Making map of all subway stations\n",
    "address = 'Athens, Attiki'\n",
    "geolocator = Nominatim(user_agent = 'foursquare_agent')\n",
    "location = geolocator.geocode(address)\n",
    "mymap = folium.Map(location=[location.latitude, location.longitude], zoom_start=12)\n",
    "for lat, lon, lbl in zip(df.Latitude, df.Longitude, df.index.values):\n",
    "    label = folium.Popup(lbl, parse_html=True)\n",
    "    folium.CircleMarker([lat,lon], radius = 7, color = 'blue', popup = label, fill = True, fill_color = 'cyan', fill_opacity = 0.5).add_to(mymap)\n",
    "mymap"
   ]
  },
  {
   "cell_type": "markdown",
   "metadata": {},
   "source": [
    "-------------------------\n",
    "* ## 2.Grab Foursquare venues around each station"
   ]
  },
  {
   "cell_type": "code",
   "execution_count": 394,
   "metadata": {},
   "outputs": [],
   "source": [
    "CLIENT_ID = 'REMOVED' # your Foursquare ID\n",
    "CLIENT_SECRET = 'REMOVED' # your Foursquare Secret\n",
    "VERSION = '20180605' # Foursquare API version\n",
    "LIMIT = 100 # A default Foursquare API limit value"
   ]
  },
  {
   "cell_type": "code",
   "execution_count": 254,
   "metadata": {},
   "outputs": [],
   "source": [
    "def getNearbyVenues(names, latitudes, longitudes, radius=400):\n",
    "    venues_list=[]\n",
    "    for name, lat, lng in zip(names, latitudes, longitudes):\n",
    "        print(name)\n",
    "        \n",
    "        # create the API request URL\n",
    "        url = 'https://api.foursquare.com/v2/venues/explore?&client_id={}&client_secret={}&v={}&ll={},{}&radius={}&limit={}'.format(\n",
    "            CLIENT_ID, \n",
    "            CLIENT_SECRET, \n",
    "            VERSION, \n",
    "            lat, \n",
    "            lng, \n",
    "            radius, \n",
    "            LIMIT)\n",
    "\n",
    "        # make the GET request\n",
    "        results = requests.get(url).json()[\"response\"]['groups'][0]['items']\n",
    "        \n",
    "        # return only relevant information for each nearby venue\n",
    "        venues_list.append([(\n",
    "            name, \n",
    "            lat, \n",
    "            lng, \n",
    "            v['venue']['name'], \n",
    "            v['venue']['location']['lat'], \n",
    "            v['venue']['location']['lng'],  \n",
    "            v['venue']['categories'][0]['name']) for v in results])\n",
    "\n",
    "    nearby_venues = pd.DataFrame([item for venue_list in venues_list for item in venue_list])\n",
    "    nearby_venues.columns = ['Neighborhood', \n",
    "                  'Neighborhood Latitude', \n",
    "                  'Neighborhood Longitude', \n",
    "                  'Venue', \n",
    "                  'Venue Latitude', \n",
    "                  'Venue Longitude', \n",
    "                  'Venue Category']\n",
    "    \n",
    "    return(nearby_venues)"
   ]
  },
  {
   "cell_type": "code",
   "execution_count": 255,
   "metadata": {},
   "outputs": [
    {
     "name": "stdout",
     "output_type": "stream",
     "text": [
      "Agia Marina\n",
      "Agia Paraskevi\n",
      "Agia Varvara\n",
      "Agios Antonios\n",
      "Agios Dimitrios-Alexandros Panagoulis\n",
      "Agios Eleftherios\n",
      "Agios Ioannis\n",
      "Agios Nikolaos\n",
      "Airport\n",
      "Akropoli\n",
      "Alimos\n",
      "Ambelokipi\n",
      "Ano Patisia\n",
      "Anthoupoli\n",
      "Argyroupoli\n",
      "Attiki\n",
      "Chalandri\n",
      "Dafni\n",
      "Doukissis Plakentias\n",
      "Egaleo\n",
      "Irini\n",
      "Eleonas\n",
      "Elliniko\n",
      "Ethniki Amyna\n",
      "Evangelismos\n",
      "Faliro\n",
      "Holargos\n",
      "Ilioupoli-Grigoris Lambrakis\n",
      "Iraklio\n",
      "Kallithea\n",
      "KAT\n",
      "Katehaki\n",
      "Kato Patisia\n",
      "Kerameikos\n",
      "Kifissia\n",
      "Koropi\n",
      "Korydallos\n",
      "Larissa Station\n",
      "Marousi\n",
      "Megaro Mousikis\n",
      "Metaxourghio\n",
      "Monastiraki\n",
      "Moschato\n",
      "Nea Ionia\n",
      "Neos Kosmos\n",
      "Nerantziotissa\n",
      "Nikaia\n",
      "Nomismatokopio\n",
      "Omonia\n",
      "Paiania-Kantza\n",
      "Pallini\n",
      "Panepistimio\n",
      "Panormou\n",
      "Pefkakia\n",
      "Perissos\n",
      "Peristeri\n",
      "Petralona\n",
      "Piraeus\n",
      "Sepolia\n",
      "Syngrou Fix\n",
      "Syntagma\n",
      "Tavros – Eleftherios Venizelos\n",
      "Thissio\n",
      "Victoria\n"
     ]
    }
   ],
   "source": [
    "nearby_venues = getNearbyVenues(df.index.values, df['Latitude'], df['Longitude'])"
   ]
  },
  {
   "cell_type": "code",
   "execution_count": 257,
   "metadata": {},
   "outputs": [
    {
     "data": {
      "text/html": [
       "<div>\n",
       "<style scoped>\n",
       "    .dataframe tbody tr th:only-of-type {\n",
       "        vertical-align: middle;\n",
       "    }\n",
       "\n",
       "    .dataframe tbody tr th {\n",
       "        vertical-align: top;\n",
       "    }\n",
       "\n",
       "    .dataframe thead th {\n",
       "        text-align: right;\n",
       "    }\n",
       "</style>\n",
       "<table border=\"1\" class=\"dataframe\">\n",
       "  <thead>\n",
       "    <tr style=\"text-align: right;\">\n",
       "      <th></th>\n",
       "      <th>Neighborhood</th>\n",
       "      <th>Neighborhood Latitude</th>\n",
       "      <th>Neighborhood Longitude</th>\n",
       "      <th>Venue</th>\n",
       "      <th>Venue Latitude</th>\n",
       "      <th>Venue Longitude</th>\n",
       "      <th>Venue Category</th>\n",
       "    </tr>\n",
       "  </thead>\n",
       "  <tbody>\n",
       "    <tr>\n",
       "      <th>0</th>\n",
       "      <td>Agia Marina</td>\n",
       "      <td>37.996944</td>\n",
       "      <td>23.667778</td>\n",
       "      <td>Il Toto</td>\n",
       "      <td>37.996570</td>\n",
       "      <td>23.669360</td>\n",
       "      <td>Coffee Shop</td>\n",
       "    </tr>\n",
       "    <tr>\n",
       "      <th>1</th>\n",
       "      <td>Agia Marina</td>\n",
       "      <td>37.996944</td>\n",
       "      <td>23.667778</td>\n",
       "      <td>McDonald's</td>\n",
       "      <td>37.998664</td>\n",
       "      <td>23.665473</td>\n",
       "      <td>Fast Food Restaurant</td>\n",
       "    </tr>\n",
       "    <tr>\n",
       "      <th>2</th>\n",
       "      <td>Agia Marina</td>\n",
       "      <td>37.996944</td>\n",
       "      <td>23.667778</td>\n",
       "      <td>Lidl</td>\n",
       "      <td>37.996165</td>\n",
       "      <td>23.669105</td>\n",
       "      <td>Supermarket</td>\n",
       "    </tr>\n",
       "    <tr>\n",
       "      <th>3</th>\n",
       "      <td>Agia Marina</td>\n",
       "      <td>37.996944</td>\n",
       "      <td>23.667778</td>\n",
       "      <td>Σκλαβενίτης</td>\n",
       "      <td>37.998139</td>\n",
       "      <td>23.665620</td>\n",
       "      <td>Supermarket</td>\n",
       "    </tr>\n",
       "    <tr>\n",
       "      <th>4</th>\n",
       "      <td>Agia Marina</td>\n",
       "      <td>37.996944</td>\n",
       "      <td>23.667778</td>\n",
       "      <td>Το Νησί</td>\n",
       "      <td>37.995125</td>\n",
       "      <td>23.671532</td>\n",
       "      <td>Seafood Restaurant</td>\n",
       "    </tr>\n",
       "  </tbody>\n",
       "</table>\n",
       "</div>"
      ],
      "text/plain": [
       "  Neighborhood  Neighborhood Latitude  Neighborhood Longitude        Venue  \\\n",
       "0  Agia Marina              37.996944               23.667778      Il Toto   \n",
       "1  Agia Marina              37.996944               23.667778   McDonald's   \n",
       "2  Agia Marina              37.996944               23.667778         Lidl   \n",
       "3  Agia Marina              37.996944               23.667778  Σκλαβενίτης   \n",
       "4  Agia Marina              37.996944               23.667778      Το Νησί   \n",
       "\n",
       "   Venue Latitude  Venue Longitude        Venue Category  \n",
       "0       37.996570        23.669360           Coffee Shop  \n",
       "1       37.998664        23.665473  Fast Food Restaurant  \n",
       "2       37.996165        23.669105           Supermarket  \n",
       "3       37.998139        23.665620           Supermarket  \n",
       "4       37.995125        23.671532    Seafood Restaurant  "
      ]
     },
     "execution_count": 257,
     "metadata": {},
     "output_type": "execute_result"
    }
   ],
   "source": [
    "nearby_venues.head()"
   ]
  },
  {
   "cell_type": "code",
   "execution_count": 258,
   "metadata": {},
   "outputs": [
    {
     "name": "stdout",
     "output_type": "stream",
     "text": [
      "There are 249 unique categories.\n"
     ]
    }
   ],
   "source": [
    "print('There are {} unique categories.'.format(len(nearby_venues['Venue Category'].unique())))"
   ]
  },
  {
   "cell_type": "code",
   "execution_count": 421,
   "metadata": {},
   "outputs": [
    {
     "data": {
      "text/plain": [
       "(2295, 7)"
      ]
     },
     "execution_count": 421,
     "metadata": {},
     "output_type": "execute_result"
    }
   ],
   "source": [
    "nearby_venues.shape"
   ]
  },
  {
   "cell_type": "code",
   "execution_count": 408,
   "metadata": {},
   "outputs": [
    {
     "data": {
      "text/plain": [
       "<AxesSubplot:title={'center':'Number of Venues within 400 meters of each subway station'}, xlabel='Neighborhood'>"
      ]
     },
     "execution_count": 408,
     "metadata": {},
     "output_type": "execute_result"
    },
    {
     "data": {
      "image/png": "[encoded data removed]",
      "text/plain": [
       "<Figure size 1440x1440 with 1 Axes>"
      ]
     },
     "metadata": {
      "needs_background": "light"
     },
     "output_type": "display_data"
    }
   ],
   "source": [
    "num_venues = nearby_venues\n",
    "num_venues = num_venues.groupby('Neighborhood').count()\n",
    "num_venues  = num_venues[['Venue']]\n",
    "num_venues.rename(columns = {'Venue' : 'Venues in Range'})\n",
    "num_venues.plot(kind='bar', figsize=(20,20), title=\"Number of Venues within 400 meters of each subway station\")"
   ]
  },
  {
   "cell_type": "code",
   "execution_count": 417,
   "metadata": {},
   "outputs": [],
   "source": [
    "souvlaki_shops = nearby_venues[nearby_venues['Venue Category'].str.contains('Souvlaki')]"
   ]
  },
  {
   "cell_type": "code",
   "execution_count": 418,
   "metadata": {},
   "outputs": [
    {
     "name": "stderr",
     "output_type": "stream",
     "text": [
      "/home/jupyterlab/conda/envs/python/lib/python3.6/site-packages/ipykernel_launcher.py:2: SettingWithCopyWarning: \n",
      "A value is trying to be set on a copy of a slice from a DataFrame.\n",
      "Try using .loc[row_indexer,col_indexer] = value instead\n",
      "\n",
      "See the caveats in the documentation: https://pandas.pydata.org/pandas-docs/stable/user_guide/indexing.html#returning-a-view-versus-a-copy\n",
      "  \n"
     ]
    },
    {
     "data": {
      "text/plain": [
       "<AxesSubplot:title={'center':'Number of Souvlaki Shops within 400 meters of each subway station'}, xlabel='Neighborhood'>"
      ]
     },
     "execution_count": 418,
     "metadata": {},
     "output_type": "execute_result"
    },
    {
     "data": {
      "image/png": "[encoded data removed]",
      "text/plain": [
       "<Figure size 1440x1440 with 1 Axes>"
      ]
     },
     "metadata": {
      "needs_background": "light"
     },
     "output_type": "display_data"
    }
   ],
   "source": [
    "# Sum the amount of souvlaki shops in each area\n",
    "souvlaki_shops['Venue Category'] = 1\n",
    "sum_shops = souvlaki_shops.groupby('Neighborhood').sum()\n",
    "sum_shops.rename(columns = {'Venue Category' : 'Souvlaki Shops'}, inplace=True)\n",
    "souvlaki_shops = sum_shops[['Souvlaki Shops']]\n",
    "souvlaki_shops.plot(kind='bar', figsize=(20,20), title=\"Number of Souvlaki Shops within 400 meters of each subway station\")"
   ]
  },
  {
   "cell_type": "markdown",
   "metadata": {},
   "source": [
    "### We found the number of Souvlaki Shops within 400 meters of each station.\n",
    "Now we will need to find the sum of venues in general, we want to look for a place that has enough venues (larger than 45) close to the subway as that will indicate a good amount of people walking in the area."
   ]
  },
  {
   "cell_type": "code",
   "execution_count": 423,
   "metadata": {},
   "outputs": [
    {
     "data": {
      "text/html": [
       "<div>\n",
       "<style scoped>\n",
       "    .dataframe tbody tr th:only-of-type {\n",
       "        vertical-align: middle;\n",
       "    }\n",
       "\n",
       "    .dataframe tbody tr th {\n",
       "        vertical-align: top;\n",
       "    }\n",
       "\n",
       "    .dataframe thead th {\n",
       "        text-align: right;\n",
       "    }\n",
       "</style>\n",
       "<table border=\"1\" class=\"dataframe\">\n",
       "  <thead>\n",
       "    <tr style=\"text-align: right;\">\n",
       "      <th></th>\n",
       "      <th>Souvlaki Shops</th>\n",
       "    </tr>\n",
       "  </thead>\n",
       "  <tbody>\n",
       "    <tr>\n",
       "      <th>Dafni</th>\n",
       "      <td>5.0</td>\n",
       "    </tr>\n",
       "    <tr>\n",
       "      <th>Egaleo</th>\n",
       "      <td>4.0</td>\n",
       "    </tr>\n",
       "    <tr>\n",
       "      <th>Evangelismos</th>\n",
       "      <td>1.0</td>\n",
       "    </tr>\n",
       "    <tr>\n",
       "      <th>Iraklio</th>\n",
       "      <td>2.0</td>\n",
       "    </tr>\n",
       "    <tr>\n",
       "      <th>Kerameikos</th>\n",
       "      <td>2.0</td>\n",
       "    </tr>\n",
       "    <tr>\n",
       "      <th>Marousi</th>\n",
       "      <td>4.0</td>\n",
       "    </tr>\n",
       "    <tr>\n",
       "      <th>Megaro Mousikis</th>\n",
       "      <td>1.0</td>\n",
       "    </tr>\n",
       "    <tr>\n",
       "      <th>Monastiraki</th>\n",
       "      <td>2.0</td>\n",
       "    </tr>\n",
       "    <tr>\n",
       "      <th>Omonia</th>\n",
       "      <td>1.0</td>\n",
       "    </tr>\n",
       "    <tr>\n",
       "      <th>Panepistimio</th>\n",
       "      <td>3.0</td>\n",
       "    </tr>\n",
       "    <tr>\n",
       "      <th>Petralona</th>\n",
       "      <td>1.0</td>\n",
       "    </tr>\n",
       "    <tr>\n",
       "      <th>Syngrou Fix</th>\n",
       "      <td>2.0</td>\n",
       "    </tr>\n",
       "    <tr>\n",
       "      <th>Syntagma</th>\n",
       "      <td>1.0</td>\n",
       "    </tr>\n",
       "    <tr>\n",
       "      <th>Victoria</th>\n",
       "      <td>2.0</td>\n",
       "    </tr>\n",
       "  </tbody>\n",
       "</table>\n",
       "</div>"
      ],
      "text/plain": [
       "                 Souvlaki Shops\n",
       "Dafni                       5.0\n",
       "Egaleo                      4.0\n",
       "Evangelismos                1.0\n",
       "Iraklio                     2.0\n",
       "Kerameikos                  2.0\n",
       "Marousi                     4.0\n",
       "Megaro Mousikis             1.0\n",
       "Monastiraki                 2.0\n",
       "Omonia                      1.0\n",
       "Panepistimio                3.0\n",
       "Petralona                   1.0\n",
       "Syngrou Fix                 2.0\n",
       "Syntagma                    1.0\n",
       "Victoria                    2.0"
      ]
     },
     "execution_count": 423,
     "metadata": {},
     "output_type": "execute_result"
    }
   ],
   "source": [
    "nearby_venues.groupby('Neighborhood').count()\n",
    "stations_with_many_venues = nearby_venues.groupby('Neighborhood').count()\n",
    "stations_with_many_venues = stations_with_many_venues[stations_with_many_venues['Venue'] > 45]\n",
    "stations_with_many_venues.index.values    #These are the subway stations with more than 45 venues close to them\n",
    "x = pd.DataFrame(souvlaki_shops, index=stations_with_many_venues.index.values).dropna()\n",
    "x"
   ]
  },
  {
   "cell_type": "markdown",
   "metadata": {},
   "source": [
    "* ## 3.Cluster data using the stations with at least one Souvlaki Shop in range, and more than 45 venues in range of any type\n",
    "I decided to keep only the ones that had souvlaki shops as that is a safe indicator that a need for such a service in the area exists"
   ]
  },
  {
   "cell_type": "code",
   "execution_count": 341,
   "metadata": {},
   "outputs": [],
   "source": [
    "from sklearn.cluster import KMeans"
   ]
  },
  {
   "cell_type": "code",
   "execution_count": 434,
   "metadata": {},
   "outputs": [
    {
     "name": "stderr",
     "output_type": "stream",
     "text": [
      "/home/jupyterlab/conda/envs/python/lib/python3.6/site-packages/ipykernel_launcher.py:2: SettingWithCopyWarning: \n",
      "A value is trying to be set on a copy of a slice from a DataFrame.\n",
      "Try using .loc[row_indexer,col_indexer] = value instead\n",
      "\n",
      "See the caveats in the documentation: https://pandas.pydata.org/pandas-docs/stable/user_guide/indexing.html#returning-a-view-versus-a-copy\n",
      "  \n"
     ]
    },
    {
     "data": {
      "text/html": [
       "<div>\n",
       "<style scoped>\n",
       "    .dataframe tbody tr th:only-of-type {\n",
       "        vertical-align: middle;\n",
       "    }\n",
       "\n",
       "    .dataframe tbody tr th {\n",
       "        vertical-align: top;\n",
       "    }\n",
       "\n",
       "    .dataframe thead th {\n",
       "        text-align: right;\n",
       "    }\n",
       "</style>\n",
       "<table border=\"1\" class=\"dataframe\">\n",
       "  <thead>\n",
       "    <tr style=\"text-align: right;\">\n",
       "      <th></th>\n",
       "      <th>Municipality</th>\n",
       "      <th>Latitude</th>\n",
       "      <th>Longitude</th>\n",
       "      <th>Souvlaki Shops</th>\n",
       "    </tr>\n",
       "    <tr>\n",
       "      <th>Station</th>\n",
       "      <th></th>\n",
       "      <th></th>\n",
       "      <th></th>\n",
       "      <th></th>\n",
       "    </tr>\n",
       "  </thead>\n",
       "  <tbody>\n",
       "    <tr>\n",
       "      <th>Dafni</th>\n",
       "      <td>Dafni</td>\n",
       "      <td>37.950000</td>\n",
       "      <td>23.738333</td>\n",
       "      <td>5.0</td>\n",
       "    </tr>\n",
       "    <tr>\n",
       "      <th>Egaleo</th>\n",
       "      <td>Aigaleo</td>\n",
       "      <td>37.991111</td>\n",
       "      <td>23.681667</td>\n",
       "      <td>4.0</td>\n",
       "    </tr>\n",
       "    <tr>\n",
       "      <th>Evangelismos</th>\n",
       "      <td>Athens</td>\n",
       "      <td>37.976389</td>\n",
       "      <td>23.746944</td>\n",
       "      <td>1.0</td>\n",
       "    </tr>\n",
       "    <tr>\n",
       "      <th>Iraklio</th>\n",
       "      <td>Irakleio</td>\n",
       "      <td>38.046111</td>\n",
       "      <td>23.766111</td>\n",
       "      <td>2.0</td>\n",
       "    </tr>\n",
       "    <tr>\n",
       "      <th>Kerameikos</th>\n",
       "      <td>Athens</td>\n",
       "      <td>37.978333</td>\n",
       "      <td>23.711389</td>\n",
       "      <td>2.0</td>\n",
       "    </tr>\n",
       "    <tr>\n",
       "      <th>Marousi</th>\n",
       "      <td>Marousi</td>\n",
       "      <td>38.056111</td>\n",
       "      <td>23.804722</td>\n",
       "      <td>4.0</td>\n",
       "    </tr>\n",
       "    <tr>\n",
       "      <th>Megaro Mousikis</th>\n",
       "      <td>Athens</td>\n",
       "      <td>37.978611</td>\n",
       "      <td>23.752500</td>\n",
       "      <td>1.0</td>\n",
       "    </tr>\n",
       "    <tr>\n",
       "      <th>Monastiraki</th>\n",
       "      <td>Athens</td>\n",
       "      <td>37.976111</td>\n",
       "      <td>23.725556</td>\n",
       "      <td>2.0</td>\n",
       "    </tr>\n",
       "    <tr>\n",
       "      <th>Omonia</th>\n",
       "      <td>Athens</td>\n",
       "      <td>37.984167</td>\n",
       "      <td>23.728333</td>\n",
       "      <td>1.0</td>\n",
       "    </tr>\n",
       "    <tr>\n",
       "      <th>Panepistimio</th>\n",
       "      <td>Athens</td>\n",
       "      <td>37.980278</td>\n",
       "      <td>23.733056</td>\n",
       "      <td>3.0</td>\n",
       "    </tr>\n",
       "    <tr>\n",
       "      <th>Petralona</th>\n",
       "      <td>Athens</td>\n",
       "      <td>37.968611</td>\n",
       "      <td>23.709167</td>\n",
       "      <td>1.0</td>\n",
       "    </tr>\n",
       "    <tr>\n",
       "      <th>Syngrou Fix</th>\n",
       "      <td>Athens</td>\n",
       "      <td>37.964444</td>\n",
       "      <td>23.726667</td>\n",
       "      <td>2.0</td>\n",
       "    </tr>\n",
       "    <tr>\n",
       "      <th>Syntagma</th>\n",
       "      <td>Athens</td>\n",
       "      <td>37.975278</td>\n",
       "      <td>23.735278</td>\n",
       "      <td>1.0</td>\n",
       "    </tr>\n",
       "    <tr>\n",
       "      <th>Victoria</th>\n",
       "      <td>Athens</td>\n",
       "      <td>37.993056</td>\n",
       "      <td>23.730556</td>\n",
       "      <td>2.0</td>\n",
       "    </tr>\n",
       "  </tbody>\n",
       "</table>\n",
       "</div>"
      ],
      "text/plain": [
       "                Municipality   Latitude  Longitude  Souvlaki Shops\n",
       "Station                                                           \n",
       "Dafni                  Dafni  37.950000  23.738333             5.0\n",
       "Egaleo               Aigaleo  37.991111  23.681667             4.0\n",
       "Evangelismos          Athens  37.976389  23.746944             1.0\n",
       "Iraklio             Irakleio  38.046111  23.766111             2.0\n",
       "Kerameikos            Athens  37.978333  23.711389             2.0\n",
       "Marousi              Marousi  38.056111  23.804722             4.0\n",
       "Megaro Mousikis       Athens  37.978611  23.752500             1.0\n",
       "Monastiraki           Athens  37.976111  23.725556             2.0\n",
       "Omonia                Athens  37.984167  23.728333             1.0\n",
       "Panepistimio          Athens  37.980278  23.733056             3.0\n",
       "Petralona             Athens  37.968611  23.709167             1.0\n",
       "Syngrou Fix           Athens  37.964444  23.726667             2.0\n",
       "Syntagma              Athens  37.975278  23.735278             1.0\n",
       "Victoria              Athens  37.993056  23.730556             2.0"
      ]
     },
     "execution_count": 434,
     "metadata": {},
     "output_type": "execute_result"
    }
   ],
   "source": [
    "filter_df  = df[df.index.isin(x.index.values)]\n",
    "filter_df['Souvlaki Shops'] = x['Souvlaki Shops']\n",
    "#filter_df['Venue Number'] = stations_with_many_venues['Venue']\n",
    "filter_df"
   ]
  },
  {
   "cell_type": "code",
   "execution_count": 435,
   "metadata": {},
   "outputs": [
    {
     "data": {
      "text/plain": [
       "array([2, 2, 0, 1, 1, 2, 0, 1, 0, 1], dtype=int32)"
      ]
     },
     "execution_count": 435,
     "metadata": {},
     "output_type": "execute_result"
    }
   ],
   "source": [
    "# set number of clusters\n",
    "kclusters = 3\n",
    "df_clustering = filter_df[['Souvlaki Shops']]\n",
    "\n",
    "# run k-means clustering\n",
    "kmeans = KMeans(n_clusters=kclusters, random_state=0).fit(df_clustering)\n",
    "\n",
    "# check cluster labels generated for each row in the dataframe\n",
    "kmeans.labels_[0:10] "
   ]
  },
  {
   "cell_type": "code",
   "execution_count": 439,
   "metadata": {},
   "outputs": [
    {
     "data": {
      "text/html": [
       "<div>\n",
       "<style scoped>\n",
       "    .dataframe tbody tr th:only-of-type {\n",
       "        vertical-align: middle;\n",
       "    }\n",
       "\n",
       "    .dataframe tbody tr th {\n",
       "        vertical-align: top;\n",
       "    }\n",
       "\n",
       "    .dataframe thead th {\n",
       "        text-align: right;\n",
       "    }\n",
       "</style>\n",
       "<table border=\"1\" class=\"dataframe\">\n",
       "  <thead>\n",
       "    <tr style=\"text-align: right;\">\n",
       "      <th></th>\n",
       "      <th>Cluster Labels</th>\n",
       "      <th>Municipality</th>\n",
       "      <th>Latitude</th>\n",
       "      <th>Longitude</th>\n",
       "      <th>Souvlaki Shops</th>\n",
       "    </tr>\n",
       "    <tr>\n",
       "      <th>Station</th>\n",
       "      <th></th>\n",
       "      <th></th>\n",
       "      <th></th>\n",
       "      <th></th>\n",
       "      <th></th>\n",
       "    </tr>\n",
       "  </thead>\n",
       "  <tbody>\n",
       "    <tr>\n",
       "      <th>Dafni</th>\n",
       "      <td>2</td>\n",
       "      <td>Dafni</td>\n",
       "      <td>37.950000</td>\n",
       "      <td>23.738333</td>\n",
       "      <td>5.0</td>\n",
       "    </tr>\n",
       "    <tr>\n",
       "      <th>Egaleo</th>\n",
       "      <td>2</td>\n",
       "      <td>Aigaleo</td>\n",
       "      <td>37.991111</td>\n",
       "      <td>23.681667</td>\n",
       "      <td>4.0</td>\n",
       "    </tr>\n",
       "    <tr>\n",
       "      <th>Evangelismos</th>\n",
       "      <td>0</td>\n",
       "      <td>Athens</td>\n",
       "      <td>37.976389</td>\n",
       "      <td>23.746944</td>\n",
       "      <td>1.0</td>\n",
       "    </tr>\n",
       "    <tr>\n",
       "      <th>Iraklio</th>\n",
       "      <td>1</td>\n",
       "      <td>Irakleio</td>\n",
       "      <td>38.046111</td>\n",
       "      <td>23.766111</td>\n",
       "      <td>2.0</td>\n",
       "    </tr>\n",
       "    <tr>\n",
       "      <th>Kerameikos</th>\n",
       "      <td>1</td>\n",
       "      <td>Athens</td>\n",
       "      <td>37.978333</td>\n",
       "      <td>23.711389</td>\n",
       "      <td>2.0</td>\n",
       "    </tr>\n",
       "    <tr>\n",
       "      <th>Marousi</th>\n",
       "      <td>2</td>\n",
       "      <td>Marousi</td>\n",
       "      <td>38.056111</td>\n",
       "      <td>23.804722</td>\n",
       "      <td>4.0</td>\n",
       "    </tr>\n",
       "    <tr>\n",
       "      <th>Megaro Mousikis</th>\n",
       "      <td>0</td>\n",
       "      <td>Athens</td>\n",
       "      <td>37.978611</td>\n",
       "      <td>23.752500</td>\n",
       "      <td>1.0</td>\n",
       "    </tr>\n",
       "    <tr>\n",
       "      <th>Monastiraki</th>\n",
       "      <td>1</td>\n",
       "      <td>Athens</td>\n",
       "      <td>37.976111</td>\n",
       "      <td>23.725556</td>\n",
       "      <td>2.0</td>\n",
       "    </tr>\n",
       "    <tr>\n",
       "      <th>Omonia</th>\n",
       "      <td>0</td>\n",
       "      <td>Athens</td>\n",
       "      <td>37.984167</td>\n",
       "      <td>23.728333</td>\n",
       "      <td>1.0</td>\n",
       "    </tr>\n",
       "    <tr>\n",
       "      <th>Panepistimio</th>\n",
       "      <td>1</td>\n",
       "      <td>Athens</td>\n",
       "      <td>37.980278</td>\n",
       "      <td>23.733056</td>\n",
       "      <td>3.0</td>\n",
       "    </tr>\n",
       "    <tr>\n",
       "      <th>Petralona</th>\n",
       "      <td>0</td>\n",
       "      <td>Athens</td>\n",
       "      <td>37.968611</td>\n",
       "      <td>23.709167</td>\n",
       "      <td>1.0</td>\n",
       "    </tr>\n",
       "    <tr>\n",
       "      <th>Syngrou Fix</th>\n",
       "      <td>1</td>\n",
       "      <td>Athens</td>\n",
       "      <td>37.964444</td>\n",
       "      <td>23.726667</td>\n",
       "      <td>2.0</td>\n",
       "    </tr>\n",
       "    <tr>\n",
       "      <th>Syntagma</th>\n",
       "      <td>0</td>\n",
       "      <td>Athens</td>\n",
       "      <td>37.975278</td>\n",
       "      <td>23.735278</td>\n",
       "      <td>1.0</td>\n",
       "    </tr>\n",
       "    <tr>\n",
       "      <th>Victoria</th>\n",
       "      <td>1</td>\n",
       "      <td>Athens</td>\n",
       "      <td>37.993056</td>\n",
       "      <td>23.730556</td>\n",
       "      <td>2.0</td>\n",
       "    </tr>\n",
       "  </tbody>\n",
       "</table>\n",
       "</div>"
      ],
      "text/plain": [
       "                 Cluster Labels Municipality   Latitude  Longitude  \\\n",
       "Station                                                              \n",
       "Dafni                         2        Dafni  37.950000  23.738333   \n",
       "Egaleo                        2      Aigaleo  37.991111  23.681667   \n",
       "Evangelismos                  0       Athens  37.976389  23.746944   \n",
       "Iraklio                       1     Irakleio  38.046111  23.766111   \n",
       "Kerameikos                    1       Athens  37.978333  23.711389   \n",
       "Marousi                       2      Marousi  38.056111  23.804722   \n",
       "Megaro Mousikis               0       Athens  37.978611  23.752500   \n",
       "Monastiraki                   1       Athens  37.976111  23.725556   \n",
       "Omonia                        0       Athens  37.984167  23.728333   \n",
       "Panepistimio                  1       Athens  37.980278  23.733056   \n",
       "Petralona                     0       Athens  37.968611  23.709167   \n",
       "Syngrou Fix                   1       Athens  37.964444  23.726667   \n",
       "Syntagma                      0       Athens  37.975278  23.735278   \n",
       "Victoria                      1       Athens  37.993056  23.730556   \n",
       "\n",
       "                 Souvlaki Shops  \n",
       "Station                          \n",
       "Dafni                       5.0  \n",
       "Egaleo                      4.0  \n",
       "Evangelismos                1.0  \n",
       "Iraklio                     2.0  \n",
       "Kerameikos                  2.0  \n",
       "Marousi                     4.0  \n",
       "Megaro Mousikis             1.0  \n",
       "Monastiraki                 2.0  \n",
       "Omonia                      1.0  \n",
       "Panepistimio                3.0  \n",
       "Petralona                   1.0  \n",
       "Syngrou Fix                 2.0  \n",
       "Syntagma                    1.0  \n",
       "Victoria                    2.0  "
      ]
     },
     "execution_count": 439,
     "metadata": {},
     "output_type": "execute_result"
    }
   ],
   "source": [
    "# add clustering labels\n",
    "#df_clustering.insert(0, 'Cluster Labels', kmeans.labels_)\n",
    "df_merged = df_clustering.drop('Souvlaki Shops', axis = 1)\n",
    "#df_merged = df_merged.drop('Venue Number', axis = 1)\n",
    "# merge manhattan_grouped with manhattan_data to add latitude/longitude for each neighborhood\n",
    "df_merged = df_merged.join(filter_df, on=filter_df.index)\n",
    "\n",
    "df_merged"
   ]
  },
  {
   "cell_type": "markdown",
   "metadata": {},
   "source": [
    "### Create folium map with clusters"
   ]
  },
  {
   "cell_type": "code",
   "execution_count": 440,
   "metadata": {},
   "outputs": [
    {
     "data": {
      "text/html": [
       "<div style=\"width:100%;\"><div style=\"position:relative;width:100%;height:0;padding-bottom:60%;\"><span style=\"color:#565656\">Make this Notebook Trusted to load map: File -> Trust Notebook</span><iframe src=\"about:blank\" style=\"position:absolute;width:100%;height:100%;left:0;top:0;border:none !important;\" data-html=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 onload=\"this.contentDocument.open();this.contentDocument.write(atob(this.getAttribute('data-html')));this.contentDocument.close();\" allowfullscreen webkitallowfullscreen mozallowfullscreen></iframe></div></div>"
      ],
      "text/plain": [
       "<folium.folium.Map at 0x7fc93dd1d4a8>"
      ]
     },
     "execution_count": 440,
     "metadata": {},
     "output_type": "execute_result"
    }
   ],
   "source": [
    "import matplotlib.cm as cm\n",
    "import matplotlib.colors as colors\n",
    "\n",
    "address = 'Athens, Attiki'\n",
    "geolocator = Nominatim(user_agent = 'foursquare_agent')\n",
    "location = geolocator.geocode(address)\n",
    "final_map = folium.Map(location=[location.latitude, location.longitude], zoom_start=12)\n",
    "\n",
    "# set color scheme for the clusters\n",
    "rainbow = [\"green\", \"orange\", \"red\"]\n",
    "# add markers to the map\n",
    "for lat, lon, poi, cluster, shops in zip(df_merged['Latitude'], df_merged['Longitude'], df_merged.index.values, df_merged['Cluster Labels'], df_merged['Souvlaki Shops']):\n",
    "    label = folium.Popup(str(poi) + ' || Cluster: ' + str(cluster) + \" || Souvaki-shops: \" + str(int(shops)), parse_html=True)\n",
    "    folium.Marker(\n",
    "        [lat, lon],\n",
    "        popup=label,\n",
    "        icon=folium.Icon(color=rainbow[cluster], icon='glyphicon-cutlery')\n",
    "    ).add_to(final_map)\n",
    "    \n",
    "title = 'Best Areas to open new Souvlaki Shop in Athens, within 400 meters of subway station.'\n",
    "title_html = '''\n",
    "             <h3 align=\"center\" style=\"font-size:16px\"><b>{}</b></h3>\n",
    "             '''.format(title)   \n",
    "final_map.get_root().html.add_child(folium.Element(title_html))\n",
    "\n",
    "final_map"
   ]
  },
  {
   "cell_type": "markdown",
   "metadata": {},
   "source": [
    "-----------------\n",
    "## Conclusion\n",
    "The best places to open a new Souvlaki Shop according to the analyzed criteria (within 400 meters of subway station, already has a market for Souvlaki Shops, large number of venues in range so that people are guaranteed to roam the streets) appear to be:\n",
    "\n",
    "* Omonoia\n",
    "* Petralona\n",
    "* Sintagma\n",
    "* Evangelismos\n",
    "* Megaro Mousikis"
   ]
  },
  {
   "cell_type": "markdown",
   "metadata": {},
   "source": [
    "------------------------\n",
    "## P.S.\n",
    "Potential investors, keep in mind that foursquare data on venues in Athens is somewhat lacking. That may mean that more data is needed to make a solid decision on the area of your investment.\n",
    "Thank you for your time.\n",
    "\n",
    "-Kostas Smonos"
   ]
  },
  {
   "cell_type": "code",
   "execution_count": null,
   "metadata": {},
   "outputs": [],
   "source": []
  }
 ],
 "metadata": {
  "kernelspec": {
   "display_name": "Python",
   "language": "python",
   "name": "conda-env-python-py"
  },
  "language_info": {
   "codemirror_mode": {
    "name": "ipython",
    "version": 3
   },
   "file_extension": ".py",
   "mimetype": "text/x-python",
   "name": "python",
   "nbconvert_exporter": "python",
   "pygments_lexer": "ipython3",
   "version": "3.6.11"
  }
 },
 "nbformat": 4,
 "nbformat_minor": 4
}
